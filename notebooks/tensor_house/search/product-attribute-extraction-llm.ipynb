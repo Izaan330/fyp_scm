{
 "cells": [
  {
   "cell_type": "markdown",
   "id": "a6db373f-9df1-4fcd-ade1-cb38d90b05f8",
   "metadata": {
    "tags": []
   },
   "source": [
    "# Product Attribute Discovery, Extraction, and Harmonization Using LLMs\n",
    "\n",
    "This notebook demonstrate how LLMs can be used to extract and harmonize product attributes. The extracted attributes are supposed to be used as inputs to search engines, faceted catalog navigation, and other applications that require high-quality product data. Intelligent attribute extraction and harmonization is particularly useful in applications with multiple sellers or suppliers such as marketplaces.\n",
    "\n",
    "### Use Case\n",
    "We consider the following scenarios:\n",
    "  1. **Product discovery.** We receive a product description and need to determine whether it is a new or known (registered) product type. If it is a new product type, we need to generate a schema (list of attribute names) for it.\n",
    "  2. **Attribute extraction.** Assuming that the product schema is known (either an old schema fetched from a repository or new schema is generated), we need to extract the attributes from the product description. In particular, complex attributes might need to be generated.\n",
    "  3. **Attribute harmonization.** Extracted or manually entered attributes need to be harmonized, so that they use the same measures, taxonomy, etc. \n",
    "\n",
    "### Prototype: Approach and Data\n",
    "We use Langchain as an abstraction layer to invoke LLMs. GCP Vertex AI is used as an LLM provider, but other proprietary LLMs can be used equally well. \n",
    "\n",
    "### Usage and Productization\n",
    "This prototype provides basic prompt templates and illustrative examples. Productization would typically require to create a more complete set of task-specific prompts, integrate them into a product data processing pipeline, and create admin interfaces. "
   ]
  },
  {
   "cell_type": "markdown",
   "id": "bd06afed-dbe3-4ce1-9333-bfc3b067e7f5",
   "metadata": {},
   "source": [
    "## Environment Setup and Initialization"
   ]
  },
  {
   "cell_type": "code",
   "execution_count": 19,
   "id": "0c945513-6fab-4d56-a0fd-1b77f6a977e1",
   "metadata": {
    "editable": true,
    "slideshow": {
     "slide_type": ""
    },
    "tags": [],
    "ExecuteTime": {
     "end_time": "2024-01-14T14:22:29.436739Z",
     "start_time": "2024-01-14T14:22:29.433591Z"
    }
   },
   "outputs": [],
   "source": [
    "#\n",
    "# Imports\n",
    "#\n",
    "from langchain_core.output_parsers import StrOutputParser\n",
    "from langchain_core.prompts import PromptTemplate\n",
    "from langchain_community.llms.vertexai import VertexAI\n",
    "\n",
    "#\n",
    "# Initialize LLM provider\n",
    "# (google-cloud-aiplatform must be installed)\n",
    "#\n",
    "from google.cloud import aiplatform\n",
    "aiplatform.init(\n",
    "    project='<< specify your project name here >>',\n",
    "    location='us-central1'\n",
    ")\n",
    "\n",
    "#\n",
    "# Helper function for calling LLM using a prompt template and one argument\n",
    "# Parameter name in the template must be 'input'\n",
    "#\n",
    "def query_llm_with_one_argument(query_template, argument):\n",
    "    prompt = PromptTemplate.from_template(query_template)\n",
    "    llm = VertexAI()\n",
    "    output_parser = StrOutputParser()\n",
    "    \n",
    "    chain = prompt | llm | output_parser\n",
    "\n",
    "    return chain.invoke({'input': argument})"
   ]
  },
  {
   "cell_type": "markdown",
   "id": "737b37b4-5aa3-4e51-9080-1f08b8bde3ef",
   "metadata": {},
   "source": [
    "## Attribute Discovery\n",
    "\n",
    "In this section, we discover product attributes from unstructured product descriptions. These attributes can be used to define structured data schemas for search engines, prodict databases, etc."
   ]
  },
  {
   "cell_type": "code",
   "execution_count": 28,
   "id": "d15efbb2-1999-41aa-8d15-6df5cf861699",
   "metadata": {
    "ExecuteTime": {
     "end_time": "2024-01-14T14:23:56.616647Z",
     "start_time": "2024-01-14T14:23:54.734683Z"
    }
   },
   "outputs": [
    {
     "data": {
      "text/plain": "' { {\"category_name\": \"Cookware Sets\"}, {\"product_attribute_names\": [\"Brand\", \"Material\", \"Number of Pieces\", \"Color\", \"Cooktop Compatibility\"]} }'"
     },
     "execution_count": 28,
     "metadata": {},
     "output_type": "execute_result"
    }
   ],
   "source": [
    "product_data = [\n",
    "\"\"\"\n",
    "Title: Caannasweis 10 Pieces Pots and Pans Non Stick Pan White Pot Sets Nonstick Cookware Sets w/ Grill Pan\n",
    "Description:\n",
    "1: These cookware sets are included 1*9.5” frying pan, 1* 8” frying pan, 1*1.5QT sauce pot with glass lid, 1*4.5QT deep frying pan with lid, 1*5QT stock pot with glass lid, and 1*9.5” square grill pan. \n",
    "This 10-piece granite pots and pans set is everything you need to get cooking in your kitchen. Not just that, the cooking set also makes an appreciable housewarming gift or holiday gift for your loved ones. \n",
    "2: Our pots and pans use scratch-proof nonstick granite coating, which can keep food sliding smoothly along the surface, preventing food to stick, and making cooking easier. Sturdy interiors can avoid \n",
    "chipping and coming off. \n",
    "3: These nonstick cookware sets are free of PFOA, PFOS, lead & cadmium(Have FDA certification for SGS testing). Giving you and your family a healthier and easier home culinary experience. \n",
    "4: The pots and pans in this cookware set do not have a magnetic induction bottom, which allows faster heating on other cooktops, designed for people who do not use induction cooktops. \n",
    "5: All-in-one design. Rivetless interior to prevent snags and food buildup. Just rinse with a rag or water to finish cleaning.\n",
    "\"\"\"\n",
    "]\n",
    "\n",
    "discovery_template = \"\"\"\n",
    "Your goal is to determine the product category and propose attributes for this category based on the user's input. The output must follow the format describe below.\n",
    "\n",
    "```TypeScript\n",
    "category: {{                               // Category metadata      \n",
    "   category_name: string                   // Product type\n",
    "   product_attribute_names: Array<string>  // A list of product attribute names that should be used to describe products in this category (not more than 4 attributes)\n",
    "}}\n",
    "```\n",
    "\n",
    "Please output the extracted information in JSON format. Do NOT add any formatting characters, whitespaces, keywords, or clarifying information. \n",
    "The output MUST follow the schema above. Do NOT add any additional fields that do not appear in the schema.\n",
    "\n",
    "Input: Noriega Glass Table Vase. A retro green tone meets a classic shape: This bud vase has a sleek, eye-catching look that's inspired by vintage design.\n",
    "Output: {{ {{\"category_name\": \"Table Vases\"}}, {{\"product_attribute_names\": [\"Brand\", \"Size\", \"Vase Shape\", \"Indoor Use Only\"]}} }}\n",
    "\n",
    "Input: {input}\n",
    "Output:\n",
    "\"\"\"\n",
    "\n",
    "query_llm_with_one_argument(discovery_template, product_data[0])"
   ]
  },
  {
   "cell_type": "markdown",
   "id": "f116f09f-8e69-47fb-83b9-042157ea1715",
   "metadata": {},
   "source": [
    "## Attribute Extraction\n",
    "\n",
    "In this section, we extract *values* for the discovered attributes."
   ]
  },
  {
   "cell_type": "code",
   "execution_count": 29,
   "id": "075b7743-e1ee-45ad-a168-53a34a3be170",
   "metadata": {
    "editable": true,
    "slideshow": {
     "slide_type": ""
    },
    "tags": [],
    "ExecuteTime": {
     "end_time": "2024-01-14T14:24:02.068868Z",
     "start_time": "2024-01-14T14:23:59.728517Z"
    }
   },
   "outputs": [
    {
     "data": {
      "text/plain": "' {\"brand\": \"Caannasweis\"}, {\"material\": \"granite\"}, {\"category\": \"Set\"}, {\"items_count\": 10}, {\"features\": [\"scratch-proof\", \"non-stick\", \"PFOA-free\", \"PFOS-free\", \"lead-free\", \"cadmium-free\", \"FDA-approved\", \"fast heating\", \"rivetless interior\"]}'"
     },
     "execution_count": 29,
     "metadata": {},
     "output_type": "execute_result"
    }
   ],
   "source": [
    "extraction_template = \"\"\"\n",
    "Your goal is to extract structured information from the user's input that matches the form described below. When extracting information please make sure it matches the type information exactly. Do not add any attributes that do not appear in the schema shown below.\n",
    "\n",
    "```TypeScript\n",
    "product: {{                 // Product attributes\n",
    "   brand: string            // The name of the product's brand\n",
    "   material: string         // The primary material the product is made of\n",
    "   category: string         // Product type such as set, pot, or pan\n",
    "   items_count: integer     // Number of items\n",
    "   features: Array<string>  // A list of the main product features (not more than three)\n",
    "}}\n",
    "```\n",
    "\n",
    "Please output the extracted information in JSON format. Do NOT add any clarifying information. Output MUST follow the schema above. Do NOT add any additional fields that do not appear in the schema.\n",
    "\n",
    "Input: Gotham Aluminium Cookware 12 Pieces Set. The nonstick cooking surface is coated 3x, and reinforced with ceramic and titanium to deliver the ultimate food release. Dishwasher safe.\n",
    "Output: {{ {{\"brand\": \"Gotham\"}}, {{\"material\": \"Aluminium\"}}, {{\"category\": \"Set\"}}, {{\"items_count\": 5}}, {{\"features\": [\"ceramic coating\", \"dishwasher safe\"]}}  }}\n",
    "\n",
    "Input: {input}\n",
    "Output:\n",
    "\"\"\"\n",
    "\n",
    "query_llm_with_one_argument(extraction_template, product_data[0])"
   ]
  },
  {
   "cell_type": "code",
   "execution_count": 30,
   "id": "ea023520-183f-4a65-abc4-676ca6b46dc0",
   "metadata": {
    "editable": true,
    "slideshow": {
     "slide_type": ""
    },
    "tags": [],
    "ExecuteTime": {
     "end_time": "2024-01-14T14:24:10.542196Z",
     "start_time": "2024-01-14T14:24:08.850841Z"
    }
   },
   "outputs": [
    {
     "data": {
      "text/plain": "' **Caannasweis 10-Piece Non-Stick Pots and Pans Set: Cookware for the Budget-Conscious Chef**'"
     },
     "execution_count": 30,
     "metadata": {},
     "output_type": "execute_result"
    }
   ],
   "source": [
    "#\n",
    "# A more advanced example is generation of complex attributes \n",
    "# such search engine optimization (SEO) tags and personalized product page titles \n",
    "#\n",
    "\n",
    "social_media_template = \"\"\"\n",
    "Create a new product page title specifically for the price-sensitive customer segment based on the product description provided below. \n",
    "\n",
    "Input: {input}\n",
    "Output:\n",
    "\"\"\"\n",
    "\n",
    "query_llm_with_one_argument(social_media_template, product_data[0])"
   ]
  },
  {
   "cell_type": "markdown",
   "id": "20342c7a-99ea-4df9-93be-407aed6c1451",
   "metadata": {},
   "source": [
    "## Attribute Harmonization\n",
    "\n",
    "In this section, we harmonize attribute formatting and measures."
   ]
  },
  {
   "cell_type": "code",
   "execution_count": 31,
   "id": "f0d64446-ba53-4f8b-9bbb-53e2bfc8d083",
   "metadata": {
    "ExecuteTime": {
     "end_time": "2024-01-14T14:24:53.238534Z",
     "start_time": "2024-01-14T14:24:51.397815Z"
    }
   },
   "outputs": [
    {
     "data": {
      "text/plain": "' { \"style\" : \"Traditional\", \"dimensions\" : [2.375, 8.3125, 0.5] }'"
     },
     "execution_count": 31,
     "metadata": {},
     "output_type": "execute_result"
    }
   ],
   "source": [
    "product_attributes_raw = [\n",
    "\"\"\"\n",
    "{ \"style\" : \"classic blue polka dot pattern\", \"dimensions\" : \"2-3/8 inch x 8-5/16 inch x 1/2 inch\" }\n",
    "\"\"\"\n",
    "]\n",
    "\n",
    "harmonization_template = \"\"\"\n",
    "Your goal is to format product attribute values in the user's input to match the format described below.\n",
    "\n",
    "```TypeScript\n",
    "product: {{                   // Product attributes\n",
    "    style: string             // One of the following three style values: Traditional, Modern, Nature \n",
    "    dimensions: Array<float>  // An array of floating-point values expressed in inches \n",
    "}}\n",
    "```\n",
    "\n",
    "Please output the extracted information in JSON format. Do NOT add any clarifying information.\n",
    "\n",
    "Input: {{ \"style\" : \"wooden texture\", \"dimensions\" : \"8-1/2” x 1-1/16”\" }}\n",
    "Output: {{ \"style\" : \"Nature\", \"dimensions\" : [8.5, 1.0625], }}\n",
    "\n",
    "Input: {{ \"style\" : \"abstract hexagons\", \"dimensions\" : \"2/5 inch x 2 inch\" }}\n",
    "Output: {{ \"style\" : \"Modern\", \"dimensions\" : [0.4, 2] }}\n",
    "\n",
    "Input: {input}\n",
    "Output:\n",
    "\"\"\"\n",
    "\n",
    "query_llm_with_one_argument(harmonization_template, product_attributes_raw[0])"
   ]
  }
 ],
 "metadata": {
  "kernelspec": {
   "display_name": "py310",
   "language": "python",
   "name": "py310"
  },
  "language_info": {
   "codemirror_mode": {
    "name": "ipython",
    "version": 3
   },
   "file_extension": ".py",
   "mimetype": "text/x-python",
   "name": "python",
   "nbconvert_exporter": "python",
   "pygments_lexer": "ipython3",
   "version": "3.10.12"
  }
 },
 "nbformat": 4,
 "nbformat_minor": 5
}
